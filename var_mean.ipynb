{
 "cells": [
  {
   "cell_type": "code",
   "execution_count": 3,
   "metadata": {},
   "outputs": [],
   "source": [
    "import torch"
   ]
  },
  {
   "cell_type": "code",
   "execution_count": 4,
   "metadata": {},
   "outputs": [],
   "source": [
    "full_dataset = torch.load(\"/fs/pool/pool-marsot/bindbind/datasets/tankbind_processed/processed/data.pt\")"
   ]
  },
  {
   "cell_type": "code",
   "execution_count": 5,
   "metadata": {},
   "outputs": [],
   "source": [
    "training_indices_path = \"/fs/pool/pool-marsot/tankbind_enzo/bind/packages/EquiBind/data/timesplit_no_lig_overlap_train\""
   ]
  },
  {
   "cell_type": "code",
   "execution_count": 6,
   "metadata": {},
   "outputs": [],
   "source": [
    "with open(training_indices_path, \"r\") as f:\n",
    "    train_names = set([name for name in f.read().split(\"\\n\")])"
   ]
  },
  {
   "cell_type": "code",
   "execution_count": 9,
   "metadata": {},
   "outputs": [],
   "source": [
    "train_dataset = {name: full_dataset[name] for name in train_names if name in full_dataset}"
   ]
  },
  {
   "cell_type": "code",
   "execution_count": 13,
   "metadata": {},
   "outputs": [
    {
     "data": {
      "text/plain": [
       "dict_keys(['diffdock_ligand_atom_features', 'diffdock_ligand_atom_coordinates', 'diffdock_ligand_edge_index', 'diffdock_ligand_edge_attr', 'diffdock_protein_sequences', 'diffdock_protein_node_features', 'diffdock_protein_chain_ids', 'diffdock_protein_alpha_carbon_coordinates', 'diffdock_protein_residue_atom_coordinates', 'diffdock_protein_sidechain_vector_features', 'diffdock_protein_alpha_carbon_knn_edge_index', 'tankbind_ligand_atom_coordinates', 'tankbind_ligand_atom_features', 'tankbind_ligand_edge_index', 'tankbind_ligand_edge_features', 'tankbind_ligand_pairwise_distance_distribution', 'tankbind_protein_alpha_carbon_coordinates', 'tankbind_protein_node_scalar_features', 'tankbind_protein_node_vector_features', 'tankbind_protein_edge_index', 'tankbind_protein_edge_scalar_features', 'tankbind_protein_edge_vector_features', 'tankbind_one_letter_sequence', 'protein_name', 'tankbind_compound_center', 'tankbind_num_protein_nodes_close_to_ligand_and_in_contact_with_ligand', 'tankbind_protein_pocket_center_coordinates', 'tankbind_residue_indices_in_contact_with_compound'])"
      ]
     },
     "execution_count": 13,
     "metadata": {},
     "output_type": "execute_result"
    }
   ],
   "source": [
    "train_dataset['6d8e'].keys()"
   ]
  },
  {
   "cell_type": "code",
   "execution_count": 17,
   "metadata": {},
   "outputs": [],
   "source": [
    "proteins_csv = torch.load(\"/fs/pool/pool-marsot/bindbind/datasets/tankbind_processed/processed/proteins_csv.pt\")"
   ]
  },
  {
   "cell_type": "code",
   "execution_count": 22,
   "metadata": {},
   "outputs": [
    {
     "data": {
      "text/plain": [
       "7.59"
      ]
     },
     "execution_count": 22,
     "metadata": {},
     "output_type": "execute_result"
    }
   ],
   "source": [
    "proteins_csv[proteins_csv[\"protein_names\"]==\"2lbv\"][\"affinity\"].values[0]"
   ]
  },
  {
   "cell_type": "code",
   "execution_count": 23,
   "metadata": {},
   "outputs": [],
   "source": [
    "list_protein_node_scalar_features = []\n",
    "list_protein_node_vector_features = []\n",
    "list_protein_edge_scalar_features = []\n",
    "list_protein_edge_vector_features = []\n",
    "list_protein_distance_to_compound = []\n",
    "list_affinity = []\n",
    "for name, item in train_dataset.items():\n",
    "    # Input features\n",
    "    list_protein_node_scalar_features.append(item[\"tankbind_protein_node_scalar_features\"])\n",
    "    list_protein_node_vector_features.append(item[\"tankbind_protein_node_vector_features\"])\n",
    "    list_protein_edge_scalar_features.append(item[\"tankbind_protein_edge_scalar_features\"])\n",
    "    list_protein_edge_vector_features.append(item[\"tankbind_protein_edge_vector_features\"])\n",
    "    distance = torch.cdist(item[\"tankbind_protein_alpha_carbon_coordinates\"], item[\"tankbind_ligand_atom_coordinates\"])\n",
    "    distance = distance[torch.any(distance<20.0, dim=1)].clamp(0, 10).flatten()\n",
    "    # don't add other input features because they are onehot\n",
    "    # targets\n",
    "    list_protein_distance_to_compound.append(distance)\n",
    "    affinity = proteins_csv[proteins_csv[\"protein_names\"]==name][\"affinity\"].values[0]\n",
    "    list_affinity.append(affinity)"
   ]
  },
  {
   "cell_type": "code",
   "execution_count": 26,
   "metadata": {},
   "outputs": [
    {
     "name": "stdout",
     "output_type": "stream",
     "text": [
      "(tensor([0.2220, 0.6001, 0.0291, 0.1942, 0.3817, 0.0095]), tensor([ 0.0727,  0.1325, -0.9804, -0.7606,  0.0249,  0.0119]))\n",
      "(tensor([[0.3323, 0.3322, 0.3328],\n",
      "        [0.3323, 0.3322, 0.3328],\n",
      "        [0.3335, 0.3342, 0.3322]]), tensor([[-0.0006,  0.0006,  0.0004],\n",
      "        [ 0.0006, -0.0006, -0.0004],\n",
      "        [-0.0001,  0.0010, -0.0002]]))\n"
     ]
    },
    {
     "ename": "KeyboardInterrupt",
     "evalue": "",
     "output_type": "error",
     "traceback": [
      "\u001b[0;31m---------------------------------------------------------------------------\u001b[0m",
      "\u001b[0;31mKeyboardInterrupt\u001b[0m                         Traceback (most recent call last)",
      "Cell \u001b[0;32mIn[26], line 3\u001b[0m\n\u001b[1;32m      1\u001b[0m \u001b[38;5;28mprint\u001b[39m(torch\u001b[38;5;241m.\u001b[39mvar_mean(torch\u001b[38;5;241m.\u001b[39mcat(list_protein_node_scalar_features, dim\u001b[38;5;241m=\u001b[39m\u001b[38;5;241m0\u001b[39m), dim\u001b[38;5;241m=\u001b[39m\u001b[38;5;241m0\u001b[39m))\n\u001b[1;32m      2\u001b[0m \u001b[38;5;28mprint\u001b[39m(torch\u001b[38;5;241m.\u001b[39mvar_mean(torch\u001b[38;5;241m.\u001b[39mcat(list_protein_node_vector_features, dim\u001b[38;5;241m=\u001b[39m\u001b[38;5;241m0\u001b[39m), dim\u001b[38;5;241m=\u001b[39m\u001b[38;5;241m0\u001b[39m))\n\u001b[0;32m----> 3\u001b[0m \u001b[38;5;28mprint\u001b[39m(\u001b[43mtorch\u001b[49m\u001b[38;5;241;43m.\u001b[39;49m\u001b[43mvar_mean\u001b[49m\u001b[43m(\u001b[49m\u001b[43mtorch\u001b[49m\u001b[38;5;241;43m.\u001b[39;49m\u001b[43mcat\u001b[49m\u001b[43m(\u001b[49m\u001b[43mlist_protein_edge_scalar_features\u001b[49m\u001b[43m,\u001b[49m\u001b[43m \u001b[49m\u001b[43mdim\u001b[49m\u001b[38;5;241;43m=\u001b[39;49m\u001b[38;5;241;43m0\u001b[39;49m\u001b[43m)\u001b[49m\u001b[43m,\u001b[49m\u001b[43m \u001b[49m\u001b[43mdim\u001b[49m\u001b[38;5;241;43m=\u001b[39;49m\u001b[38;5;241;43m0\u001b[39;49m\u001b[43m)\u001b[49m)\n\u001b[1;32m      4\u001b[0m \u001b[38;5;28mprint\u001b[39m(torch\u001b[38;5;241m.\u001b[39mvar_mean(torch\u001b[38;5;241m.\u001b[39mcat(list_protein_edge_vector_features, dim\u001b[38;5;241m=\u001b[39m\u001b[38;5;241m0\u001b[39m), dim\u001b[38;5;241m=\u001b[39m\u001b[38;5;241m0\u001b[39m))\n\u001b[1;32m      5\u001b[0m \u001b[38;5;28mprint\u001b[39m(torch\u001b[38;5;241m.\u001b[39mvar_mean(torch\u001b[38;5;241m.\u001b[39mcat(list_protein_distance_to_compound, dim\u001b[38;5;241m=\u001b[39m\u001b[38;5;241m0\u001b[39m), dim\u001b[38;5;241m=\u001b[39m\u001b[38;5;241m0\u001b[39m))\n",
      "\u001b[0;31mKeyboardInterrupt\u001b[0m: "
     ]
    }
   ],
   "source": [
    "print(torch.var_mean(torch.cat(list_protein_node_scalar_features, dim=0), dim=0))\n",
    "print(torch.var_mean(torch.cat(list_protein_node_vector_features, dim=0), dim=0))\n",
    "print(torch.var_mean(torch.cat(list_protein_edge_scalar_features, dim=0), dim=0))\n",
    "print(torch.var_mean(torch.cat(list_protein_edge_vector_features, dim=0), dim=0))\n",
    "print(torch.var_mean(torch.cat(list_protein_distance_to_compound, dim=0), dim=0))\n",
    "print(torch.var_mean(torch.tensor(list_affinity), dim=0))"
   ]
  },
  {
   "cell_type": "code",
   "execution_count": 27,
   "metadata": {},
   "outputs": [],
   "source": [
    "means_dict = {\"protein_node_scalar_features\": torch.tensor([0.07262682914733887, 0.1329594999551773, -0.9804213643074036, -0.760931670665741, 0.02471655048429966, 0.011947994120419025]),\n",
    "              \"protein_node_vector_features\": torch.tensor([[-0.0005944063304923475, 0.0004770602972712368, 0.0003047776408493519], [0.0005944063304923475, -0.0004770602972712368, -0.0003047776408493519], [-9.438615961698815e-05, 0.0009057653369382024, -0.00030406430596485734]]),\n",
    "              \"protein_edge_scalar_features\": torch.tensor([6.944148026377661e-06, 0.001373058999888599, 0.03128135949373245, 0.10510130971670151, 0.1631690412759781, 0.17957991361618042, 0.2117183655500412, 0.3174160420894623, 0.30822935700416565, 0.18642766773700714, 0.09413681924343109, 0.039788469672203064, 0.014366302639245987, 0.005030795466154814, 0.001948254881426692, 0.0008591284276917577, -0.03676437586545944, -0.03928199037909508, -0.027324488386511803, -0.04502237215638161, -0.03382807597517967, -0.0309743732213974, -0.03358544036746025, -0.00877009890973568, -0.0006605424568988383, -0.0003721231478266418, 2.121787292708177e-05, 8.425789928878658e-06, 4.6160774218151346e-05, -9.526106623525266e-06, 0.0002609408984426409, 4.474521119846031e-05]),\n",
    "              \"protein_edge_vector_features\": torch.tensor([[-0.0002645916829351336, -0.0002201295574195683, -3.9455248042941093e-05]]),\n",
    "              \"protein_distance_to_compound\": torch.tensor(8.333386421203613),\n",
    "              \"compound_to_compound\": torch.tensor([0.5834429264068604, 0.09144987910985947, 0.001274818554520607, 0.32383236289024353, 0.9850631952285767, 0.0, 0.0, 0.004669341258704662, 0.010267456993460655, 0.0, 0.0, 1.0, 0.0, 0.0, 0.0, 0.0, 0.0, 0.5256147384643555, 1.4313571453094482]),\n",
    "              \"affinity\": torch.tensor(6.3677),\n",
    "              \"protein_distance_to_compound\": torch.tensor(9.7262)\n",
    "              }"
   ]
  },
  {
   "cell_type": "code",
   "execution_count": 29,
   "metadata": {},
   "outputs": [
    {
     "name": "stdout",
     "output_type": "stream",
     "text": [
      "['protein_node_scalar_features', 'protein_node_vector_features', 'protein_edge_scalar_features', 'protein_edge_vector_features', 'protein_distance_to_compound', 'compound_to_compound', 'affinity']\n"
     ]
    }
   ],
   "source": [
    "print(list(means_dict.keys()))"
   ]
  },
  {
   "cell_type": "code",
   "execution_count": 31,
   "metadata": {},
   "outputs": [],
   "source": [
    "list_keys = ['protein_node_scalar_features', 'protein_node_vector_features', 'protein_edge_scalar_features', 'protein_edge_vector_features', 'protein_distance_to_compound', 'affinity']"
   ]
  },
  {
   "cell_type": "code",
   "execution_count": 32,
   "metadata": {},
   "outputs": [],
   "source": [
    "var_protein_node_scalar_features, mean_protein_node_scalar_features = torch.var_mean(torch.cat(list_protein_node_scalar_features, dim=0), dim=0)\n",
    "var_protein_node_vector_features, mean_protein_node_vector_features = torch.var_mean(torch.cat(list_protein_node_vector_features, dim=0), dim=0)\n",
    "var_protein_edge_scalar_features, mean_protein_edge_scalar_features = torch.var_mean(torch.cat(list_protein_edge_scalar_features, dim=0), dim=0)\n",
    "var_protein_edge_vector_features, mean_protein_edge_vector_features = torch.var_mean(torch.cat(list_protein_edge_vector_features, dim=0), dim=0)\n",
    "var_protein_distance_to_compound, mean_protein_distance_to_compound = torch.var_mean(torch.cat(list_protein_distance_to_compound, dim=0), dim=0)\n",
    "var_affinity, mean_affinity = torch.var_mean(torch.tensor(list_affinity), dim=0)\n",
    "means_dict = {\"protein_node_scalar_features\": mean_protein_node_scalar_features,\n",
    "                \"protein_node_vector_features\": mean_protein_node_vector_features,\n",
    "                \"protein_edge_scalar_features\": mean_protein_edge_scalar_features,\n",
    "                \"protein_edge_vector_features\": mean_protein_edge_vector_features,\n",
    "                \"protein_distance_to_compound\": mean_protein_distance_to_compound,\n",
    "                \"affinity\": mean_affinity}\n",
    "\n",
    "vars_dict = {\"protein_node_scalar_features\": var_protein_node_scalar_features,\n",
    "                \"protein_node_vector_features\": var_protein_node_vector_features,\n",
    "                \"protein_edge_scalar_features\": var_protein_edge_scalar_features,\n",
    "                \"protein_edge_vector_features\": var_protein_edge_vector_features,\n",
    "                \"protein_distance_to_compound\": var_protein_distance_to_compound,\n",
    "                \"affinity\": var_affinity}\n",
    "\n",
    "stds_dict = {key: torch.sqrt(var) for key, var in vars_dict.items()}"
   ]
  },
  {
   "cell_type": "code",
   "execution_count": 35,
   "metadata": {},
   "outputs": [],
   "source": [
    "torch.set_printoptions(precision=10)"
   ]
  },
  {
   "cell_type": "code",
   "execution_count": 36,
   "metadata": {},
   "outputs": [
    {
     "name": "stdout",
     "output_type": "stream",
     "text": [
      "{'protein_node_scalar_features': tensor([ 0.0727457255,  0.1325012892, -0.9804269075, -0.7606167793,\n",
      "         0.0248864293,  0.0118933702]), 'protein_node_vector_features': tensor([[-0.0006267764,  0.0006361017,  0.0003718575],\n",
      "        [ 0.0006267764, -0.0006361017, -0.0003718575],\n",
      "        [-0.0001250555,  0.0010360993, -0.0001783383]]), 'protein_edge_scalar_features': tensor([ 6.9658167376e-06,  1.3754346874e-03,  3.1302969903e-02,\n",
      "         1.0506523401e-01,  1.6300360858e-01,  1.7937441170e-01,\n",
      "         2.1146914363e-01,  3.1705018878e-01,  3.0818232894e-01,\n",
      "         1.8676058948e-01,  9.4478376210e-02,  4.0007371455e-02,\n",
      "         1.4457522891e-02,  5.0572101027e-03,  1.9602947868e-03,\n",
      "         8.6626538541e-04, -3.6794535816e-02,  9.7907505929e-02,\n",
      "         2.7249491215e-01,  4.7467842698e-01,  7.6569545269e-01,\n",
      "         9.5167309046e-01,  9.9420434237e-01,  9.9940609932e-01,\n",
      "        -6.3369655982e-04,  2.6633599191e-04,  7.6850854384e-05,\n",
      "         5.2463921020e-04, -1.2254845351e-03,  1.4618394198e-04,\n",
      "         1.0501391807e-04,  3.4044867789e-05]), 'protein_edge_vector_features': tensor([[-2.4531493546e-04, -2.2749346681e-04, -6.0290578404e-05]]), 'protein_distance_to_compound': tensor(9.8255100250), 'affinity': tensor(6.3676585872, dtype=torch.float64)}\n"
     ]
    }
   ],
   "source": [
    "print(means_dict)"
   ]
  },
  {
   "cell_type": "code",
   "execution_count": 37,
   "metadata": {},
   "outputs": [
    {
     "name": "stdout",
     "output_type": "stream",
     "text": [
      "{'protein_node_scalar_features': tensor([0.4711185396, 0.7746803761, 0.1705850214, 0.4407012165, 0.6178143024,\n",
      "        0.0975829586]), 'protein_node_vector_features': tensor([[0.5764503479, 0.5763314366, 0.5768814683],\n",
      "        [0.5764503479, 0.5763314366, 0.5768814683],\n",
      "        [0.5775108337, 0.5781271458, 0.5764107108]]), 'protein_edge_scalar_features': tensor([6.2377876020e-05, 5.5922851898e-03, 1.0898678005e-01, 2.6428866386e-01,\n",
      "        3.0745354295e-01, 3.0576357245e-01, 3.0775597692e-01, 3.6643519998e-01,\n",
      "        3.6639633775e-01, 3.0458340049e-01, 2.3440334201e-01, 1.5616969764e-01,\n",
      "        9.3920931220e-02, 5.5855795741e-02, 3.5477731377e-02, 2.3793805391e-02,\n",
      "        6.9635939598e-01, 6.8488472700e-01, 7.2912204266e-01, 6.6055721045e-01,\n",
      "        4.5727527142e-01, 1.5990658104e-01, 2.7558168396e-02, 3.0823557172e-03,\n",
      "        7.1674913168e-01, 7.2204363346e-01, 6.2779581547e-01, 5.8167368174e-01,\n",
      "        4.5233646035e-01, 2.6219883561e-01, 1.0391493887e-01, 3.4320969135e-02]), 'protein_edge_vector_features': tensor([[0.5767907500, 0.5773115158, 0.5779478550]]), 'protein_distance_to_compound': tensor(0.7166844010), 'affinity': tensor(1.8645911818, dtype=torch.float64)}\n"
     ]
    },
    {
     "ename": "",
     "evalue": "",
     "output_type": "error",
     "traceback": [
      "\u001b[1;31mThe Kernel crashed while executing code in the current cell or a previous cell. \n",
      "\u001b[1;31mPlease review the code in the cell(s) to identify a possible cause of the failure. \n",
      "\u001b[1;31mClick <a href='https://aka.ms/vscodeJupyterKernelCrash'>here</a> for more info. \n",
      "\u001b[1;31mView Jupyter <a href='command:jupyter.viewOutput'>log</a> for further details."
     ]
    }
   ],
   "source": [
    "print(stds_dict)"
   ]
  },
  {
   "cell_type": "code",
   "execution_count": null,
   "metadata": {},
   "outputs": [],
   "source": []
  }
 ],
 "metadata": {
  "kernelspec": {
   "display_name": "Python 3 (ipykernel)",
   "language": "python",
   "name": "python3"
  },
  "language_info": {
   "codemirror_mode": {
    "name": "ipython",
    "version": 3
   },
   "file_extension": ".py",
   "mimetype": "text/x-python",
   "name": "python",
   "nbconvert_exporter": "python",
   "pygments_lexer": "ipython3",
   "version": "3.11.9"
  }
 },
 "nbformat": 4,
 "nbformat_minor": 2
}
